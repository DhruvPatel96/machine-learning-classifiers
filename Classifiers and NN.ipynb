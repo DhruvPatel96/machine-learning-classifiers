{
  "metadata": {
    "language_info": {
      "codemirror_mode": {
        "name": "python",
        "version": 3
      },
      "file_extension": ".py",
      "mimetype": "text/x-python",
      "name": "python",
      "nbconvert_exporter": "python",
      "pygments_lexer": "ipython3",
      "version": "3.8"
    },
    "kernelspec": {
      "name": "python",
      "display_name": "Python (Pyodide)",
      "language": "python"
    },
    "colab": {
      "provenance": []
    }
  },
  "nbformat_minor": 0,
  "nbformat": 4,
  "cells": [
    {
      "cell_type": "code",
      "source": [
        "import pandas as pd\n",
        "import numpy as np"
      ],
      "metadata": {
        "trusted": true,
        "id": "Ned5gYndgq7f"
      },
      "execution_count": null,
      "outputs": []
    },
    {
      "cell_type": "code",
      "source": [
        "# circles_dataset = pd.read_csv('moons1.csv')\n",
        "# circles_dataset = pd.read_csv('circles0.3.csv')\n",
        "# circles_dataset = pd.read_csv('halfkernel.csv')\n",
        "# circles_dataset = pd.read_csv('spiral1.csv')\n",
        "# circles_dataset = pd.read_csv('twogaussians33.csv')\n",
        "# circles_dataset = pd.read_csv('twogaussians42.csv')\n",
        "circles_dataset = pd.read_csv('Breastcancer.csv')\n",
        "X_circles = circles_dataset.iloc[:,:-1].values\n",
        "Y_circles = circles_dataset.iloc[:,-1].values\n",
        "Y_circles = Y_circles.reshape(-1,1)"
      ],
      "metadata": {
        "trusted": true,
        "id": "dF8BXdK7gq7g"
      },
      "execution_count": null,
      "outputs": []
    },
    {
      "cell_type": "code",
      "source": [
        "from sklearn.model_selection import train_test_split\n",
        "X_circles_train,X_circles_test,Y_circles_train,Y_circles_test = train_test_split(X_circles,Y_circles, test_size=0.2, random_state=0)"
      ],
      "metadata": {
        "trusted": true,
        "id": "zPoP4yGmgq7h"
      },
      "execution_count": null,
      "outputs": []
    },
    {
      "cell_type": "markdown",
      "source": [
        "### Decision Tree Classifier"
      ],
      "metadata": {
        "id": "3X_ZBOmEgq7h"
      }
    },
    {
      "cell_type": "code",
      "source": [
        "from sklearn.tree import DecisionTreeClassifier\n",
        "circles_dt_classifier = DecisionTreeClassifier(random_state=0,criterion = 'entropy')\n",
        "circles_dt_classifier.fit(X_circles_train,Y_circles_train)\n",
        "Y_circles_dt_pred = circles_dt_classifier.predict(X_circles_test)\n",
        "\n",
        "from sklearn.metrics import confusion_matrix, accuracy_score\n",
        "circles_dt_cm = confusion_matrix(Y_circles_test,Y_circles_dt_pred)\n",
        "print (\"Confusion matrix for circles Dataset with DT classifier is : \")\n",
        "print(circles_dt_cm)\n",
        "\n",
        "circles_dt_ac = (accuracy_score(Y_circles_test,Y_circles_dt_pred)*100)\n",
        "print (\"Accuracy for circles Dataset with DT classifier is :\")\n",
        "print(circles_dt_ac)"
      ],
      "metadata": {
        "trusted": true,
        "colab": {
          "base_uri": "https://localhost:8080/"
        },
        "id": "IBN52okGgq7i",
        "outputId": "c5e410f4-6893-4363-bbbe-ea7952039530"
      },
      "execution_count": null,
      "outputs": [
        {
          "output_type": "stream",
          "name": "stdout",
          "text": [
            "Confusion matrix for circles Dataset with DT classifier is : \n",
            "[[6 1 0 0 0]\n",
            " [0 6 0 1 1]\n",
            " [0 1 8 0 0]\n",
            " [0 1 4 3 0]\n",
            " [0 0 0 0 0]]\n",
            "Accuracy for circles Dataset with DT classifier is :\n",
            "71.875\n"
          ]
        }
      ]
    },
    {
      "cell_type": "code",
      "source": [
        "import sklearn.metrics\n",
        "import math\n",
        "def matrix_metrix(Y_circles_test,Y_circles_dt_pred,beta):\n",
        "   CM = confusion_matrix(Y_circles_test,Y_circles_dt_pred)\n",
        "   TN = CM[0][0]\n",
        "   FN = CM[1][0] \n",
        "   TP = CM[1][1]\n",
        "   FP = CM[0][1]\n",
        "   Population = TN+FN+TP+FP\n",
        "   Prevalence = round( (TP+FP) / Population*100)\n",
        "   Sensitivity= round(TP/(TP+FN)*100)\n",
        "   Specificity= round(TN/(TN+FP)*100)\n",
        "   Accuracy   = round( (TP+TN)/ Population*100,4)\n",
        "   PPV  = round(( TP / (TP+FP))*100,2)\n",
        "   NPV        = round( TN / (TN+FN)*100,2)  \n",
        "   mat_met = pd.DataFrame({\n",
        "'Metric':['TP','TN','FP','FN','Prevalence','Sensitivity','Specificity','Accuracy','PPV','NPV'],     'Value':[TP,TN,FP,FN,Prevalence,Sensitivity,Specificity,Accuracy,PPV,NPV]})\n",
        "   return (mat_met)"
      ],
      "metadata": {
        "id": "wb9Dfdj-nwi-"
      },
      "execution_count": null,
      "outputs": []
    },
    {
      "cell_type": "code",
      "source": [
        "beta = 0.4\n",
        "mat_met = matrix_metrix(Y_circles_test,Y_circles_dt_pred,beta)\n",
        "#convert float into integer\n",
        "def round_int(x):\n",
        "    if x in [float(\"-inf\"),float(\"inf\")]: return float(\"nan\")\n",
        "    return int(round(x))\n",
        "print (mat_met)"
      ],
      "metadata": {
        "colab": {
          "base_uri": "https://localhost:8080/"
        },
        "id": "Kw8Wx3lSnxy9",
        "outputId": "52f9a732-076a-4bf1-f5e5-3c047b66c3ce"
      },
      "execution_count": null,
      "outputs": [
        {
          "output_type": "stream",
          "name": "stdout",
          "text": [
            "        Metric     Value\n",
            "0           TP    6.0000\n",
            "1           TN    6.0000\n",
            "2           FP    1.0000\n",
            "3           FN    0.0000\n",
            "4   Prevalence   54.0000\n",
            "5  Sensitivity  100.0000\n",
            "6  Specificity   86.0000\n",
            "7     Accuracy   92.3077\n",
            "8          PPV   85.7100\n",
            "9          NPV  100.0000\n"
          ]
        }
      ]
    },
    {
      "cell_type": "markdown",
      "source": [
        "### Random Forest Classifier"
      ],
      "metadata": {
        "id": "2NTBO8xlgq7k"
      }
    },
    {
      "cell_type": "code",
      "source": [
        "from sklearn.ensemble import RandomForestClassifier\n",
        "circles_RF_classifier = RandomForestClassifier( random_state=0, criterion = 'entropy', n_estimators = 150)\n",
        "circles_RF_classifier.fit(X_circles_train,Y_circles_train)\n",
        "Y_circles_RF_pred = circles_RF_classifier.predict(X_circles_test)\n",
        "\n",
        "from sklearn.metrics import confusion_matrix, accuracy_score\n",
        "circles_RF_cm = confusion_matrix(Y_circles_test,Y_circles_RF_pred)\n",
        "print (\"Confusion matrix for circles Dataset with RF classifier is : \")\n",
        "print(circles_RF_cm)\n",
        "\n",
        "circles_RF_ac = (accuracy_score(Y_circles_test,Y_circles_RF_pred)*100)\n",
        "print (\"Accuracy for circles Dataset with RF classifier is :\")\n",
        "print(circles_RF_ac)"
      ],
      "metadata": {
        "trusted": true,
        "colab": {
          "base_uri": "https://localhost:8080/"
        },
        "id": "NzL2ipHzgq7k",
        "outputId": "cd0570e3-0985-4701-a82f-cd06647a6b0b"
      },
      "execution_count": null,
      "outputs": [
        {
          "output_type": "stream",
          "name": "stderr",
          "text": [
            "/usr/local/lib/python3.7/dist-packages/ipykernel_launcher.py:3: DataConversionWarning: A column-vector y was passed when a 1d array was expected. Please change the shape of y to (n_samples,), for example using ravel().\n",
            "  This is separate from the ipykernel package so we can avoid doing imports until\n"
          ]
        },
        {
          "output_type": "stream",
          "name": "stdout",
          "text": [
            "Confusion matrix for circles Dataset with RF classifier is : \n",
            "[[7 0 0 0]\n",
            " [0 7 0 1]\n",
            " [0 0 9 0]\n",
            " [0 0 6 2]]\n",
            "Accuracy for circles Dataset with RF classifier is :\n",
            "78.125\n"
          ]
        }
      ]
    },
    {
      "cell_type": "code",
      "source": [
        "import sklearn.metrics\n",
        "import math\n",
        "def matrix_metrix(Y_circles_test,Y_circles_RF_pred,beta):\n",
        "   CM = confusion_matrix(Y_circles_test,Y_circles_RF_pred)\n",
        "   TN = CM[0][0]\n",
        "   FN = CM[1][0] \n",
        "   TP = CM[1][1]\n",
        "   FP = CM[0][1]\n",
        "   Population = TN+FN+TP+FP\n",
        "   Prevalence = round( (TP+FP) / Population*100)\n",
        "   Sensitivity= round(TP/(TP+FN)*100)\n",
        "   Specificity= round(TN/(TN+FP)*100)\n",
        "   Accuracy   = round( (TP+TN)/ Population*100,4)\n",
        "   PPV  = round(( TP / (TP+FP))*100,2)\n",
        "   NPV        = round( TN / (TN+FN)*100,2)  \n",
        "   mat_met = pd.DataFrame({\n",
        "'Metric':['TP','TN','FP','FN','Prevalence','Sensitivity','Specificity','Accuracy','PPV','NPV'],     'Value':[TP,TN,FP,FN,Prevalence,Sensitivity,Specificity,Accuracy,PPV,NPV]})\n",
        "   return (mat_met)"
      ],
      "metadata": {
        "id": "x0v9rlmNoQ2f"
      },
      "execution_count": null,
      "outputs": []
    },
    {
      "cell_type": "code",
      "source": [
        "beta = 0.4\n",
        "mat_met = matrix_metrix(Y_circles_test,Y_circles_RF_pred,beta)\n",
        "#convert float into integer\n",
        "def round_int(x):\n",
        "    if x in [float(\"-inf\"),float(\"inf\")]: return float(\"nan\")\n",
        "    return int(round(x))\n",
        "print (mat_met)"
      ],
      "metadata": {
        "colab": {
          "base_uri": "https://localhost:8080/"
        },
        "id": "AhLXPfQxoUoF",
        "outputId": "b6e18131-bdee-4b1e-e443-0c9da7cb3991"
      },
      "execution_count": null,
      "outputs": [
        {
          "output_type": "stream",
          "name": "stdout",
          "text": [
            "        Metric  Value\n",
            "0           TP    7.0\n",
            "1           TN    7.0\n",
            "2           FP    0.0\n",
            "3           FN    0.0\n",
            "4   Prevalence   50.0\n",
            "5  Sensitivity  100.0\n",
            "6  Specificity  100.0\n",
            "7     Accuracy  100.0\n",
            "8          PPV  100.0\n",
            "9          NPV  100.0\n"
          ]
        }
      ]
    },
    {
      "cell_type": "markdown",
      "source": [
        "### Neural Networks using Multi-layer Perceptron Classifier from SKlearn \n"
      ],
      "metadata": {
        "id": "CjMJTLqMgq7k"
      }
    },
    {
      "cell_type": "code",
      "source": [
        "from sklearn.neural_network import MLPClassifier\n",
        "circles_NN_classifier = MLPClassifier(solver = 'lbfgs', activation = 'logistic')\n",
        "circles_NN_classifier.fit(X_circles_train,Y_circles_train)\n",
        "Y_circles_NN_pred = circles_NN_classifier.predict(X_circles_test)\n",
        "\n",
        "from sklearn.metrics import confusion_matrix, accuracy_score\n",
        "circles_NN_cm = confusion_matrix(Y_circles_test,Y_circles_NN_pred)\n",
        "print (\"Confusion matrix for circles Dataset with MLP classifier is : \")\n",
        "print(circles_NN_cm)\n",
        "\n",
        "circles_NN_ac = (accuracy_score(Y_circles_test,Y_circles_NN_pred)*100)\n",
        "print (\"Accuracy for circles Dataset with MLP classifier is :\")\n",
        "print(circles_NN_ac)"
      ],
      "metadata": {
        "trusted": true,
        "colab": {
          "base_uri": "https://localhost:8080/"
        },
        "id": "7yV3gsNjgq7k",
        "outputId": "038aac49-9401-4f74-b55d-010f135744ed"
      },
      "execution_count": null,
      "outputs": [
        {
          "output_type": "stream",
          "name": "stderr",
          "text": [
            "/usr/local/lib/python3.7/dist-packages/sklearn/neural_network/_multilayer_perceptron.py:1109: DataConversionWarning: A column-vector y was passed when a 1d array was expected. Please change the shape of y to (n_samples, ), for example using ravel().\n",
            "  y = column_or_1d(y, warn=True)\n"
          ]
        },
        {
          "output_type": "stream",
          "name": "stdout",
          "text": [
            "Confusion matrix for circles Dataset with MLP classifier is : \n",
            "[[7 0 0 0]\n",
            " [0 8 0 0]\n",
            " [0 0 9 0]\n",
            " [0 1 5 2]]\n",
            "Accuracy for circles Dataset with MLP classifier is :\n",
            "81.25\n"
          ]
        }
      ]
    },
    {
      "cell_type": "code",
      "source": [
        "import sklearn.metrics\n",
        "import math\n",
        "def matrix_metrix(Y_circles_test,Y_circles_NN_pred,beta):\n",
        "   CM = confusion_matrix(Y_circles_test,Y_circles_NN_pred)\n",
        "   TN = CM[0][0]\n",
        "   FN = CM[1][0] \n",
        "   TP = CM[1][1]\n",
        "   FP = CM[0][1]\n",
        "   Population = TN+FN+TP+FP\n",
        "   Prevalence = round( (TP+FP) / Population*100)\n",
        "   Sensitivity= round(TP/(TP+FN)*100)\n",
        "   Specificity= round(TN/(TN+FP)*100)\n",
        "   Accuracy   = round( (TP+TN)/ Population*100,4)\n",
        "   PPV  = round(( TP / (TP+FP))*100,2)\n",
        "   NPV        = round( TN / (TN+FN)*100,2)  \n",
        "   mat_met = pd.DataFrame({\n",
        "'Metric':['TP','TN','FP','FN','Prevalence','Sensitivity','Specificity','Accuracy','PPV','NPV'],     'Value':[TP,TN,FP,FN,Prevalence,Sensitivity,Specificity,Accuracy,PPV,NPV]})\n",
        "   return (mat_met)"
      ],
      "metadata": {
        "id": "JbUU8KfRoeCs"
      },
      "execution_count": null,
      "outputs": []
    },
    {
      "cell_type": "code",
      "source": [
        "beta = 0.4\n",
        "mat_met = matrix_metrix(Y_circles_test,Y_circles_NN_pred,beta)\n",
        "#convert float into integer\n",
        "def round_int(x):\n",
        "    if x in [float(\"-inf\"),float(\"inf\")]: return float(\"nan\")\n",
        "    return int(round(x))\n",
        "print (mat_met)"
      ],
      "metadata": {
        "colab": {
          "base_uri": "https://localhost:8080/"
        },
        "id": "2PqumoDsohQu",
        "outputId": "3183d8eb-356d-4e5e-99c6-d25ea6ad9b9f"
      },
      "execution_count": null,
      "outputs": [
        {
          "output_type": "stream",
          "name": "stdout",
          "text": [
            "        Metric  Value\n",
            "0           TP    8.0\n",
            "1           TN    7.0\n",
            "2           FP    0.0\n",
            "3           FN    0.0\n",
            "4   Prevalence   53.0\n",
            "5  Sensitivity  100.0\n",
            "6  Specificity  100.0\n",
            "7     Accuracy  100.0\n",
            "8          PPV  100.0\n",
            "9          NPV  100.0\n"
          ]
        }
      ]
    }
  ]
}